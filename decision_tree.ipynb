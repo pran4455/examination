{
 "cells": [
  {
   "cell_type": "code",
   "execution_count": null,
   "metadata": {},
   "outputs": [
    {
     "name": "stdout",
     "output_type": "stream",
     "text": [
      "\n",
      "Decision Tree Classifier:\n",
      "Accuracy: 0.7128\n",
      "              precision    recall  f1-score   support\n",
      "\n",
      "           0       0.71      0.72      0.71     12500\n",
      "           1       0.72      0.71      0.71     12500\n",
      "\n",
      "    accuracy                           0.71     25000\n",
      "   macro avg       0.71      0.71      0.71     25000\n",
      "weighted avg       0.71      0.71      0.71     25000\n",
      "\n"
     ]
    }
   ],
   "source": [
    "import os\n",
    "import numpy as np\n",
    "from sklearn.feature_extraction.text import TfidfVectorizer\n",
    "from sklearn.tree import DecisionTreeClassifier\n",
    "from sklearn.metrics import accuracy_score, classification_report\n",
    "\n",
    "# Function to load reviews from dataset directory\n",
    "def load_reviews(directory):\n",
    "    reviews, labels = [], []\n",
    "    for label in ['pos', 'neg']:\n",
    "        path = os.path.join(directory, label)\n",
    "        for filename in os.listdir(path):\n",
    "            with open(os.path.join(path, filename), 'r', encoding='utf-8') as file:\n",
    "                reviews.append(file.read())\n",
    "                labels.append(1 if label == 'pos' else 0)  # 1 for positive, 0 for negative\n",
    "    return reviews, labels\n",
    "\n",
    "# Paths to dataset directories\n",
    "train_dir = r\"Movie review\\aclImdb\\train\"\n",
    "test_dir = r\"Movie review\\aclImdb\\test\"\n",
    "\n",
    "# Load training and testing data\n",
    "X_train_text, y_train = load_reviews(train_dir)\n",
    "X_test_text, y_test = load_reviews(test_dir)\n",
    "\n",
    "# Convert text into numerical feature vectors using TF-IDF\n",
    "vectorizer = TfidfVectorizer(max_features=5000, stop_words='english')\n",
    "X_train = vectorizer.fit_transform(X_train_text)\n",
    "X_test = vectorizer.transform(X_test_text)\n",
    "\n",
    "# Train Decision Tree Classifier\n",
    "dt_model = DecisionTreeClassifier(random_state=42)\n",
    "dt_model.fit(X_train, y_train)\n",
    "\n",
    "# Predict on test set\n",
    "y_pred_dt = dt_model.predict(X_test)\n",
    "\n",
    "# Evaluate Decision Tree Model\n",
    "print(\"\\nDecision Tree Classifier:\")\n",
    "print(\"Accuracy:\", accuracy_score(y_test, y_pred_dt))\n",
    "print(classification_report(y_test, y_pred_dt))"
   ]
  }
 ],
 "metadata": {
  "kernelspec": {
   "display_name": "Python 3",
   "language": "python",
   "name": "python3"
  },
  "language_info": {
   "codemirror_mode": {
    "name": "ipython",
    "version": 3
   },
   "file_extension": ".py",
   "mimetype": "text/x-python",
   "name": "python",
   "nbconvert_exporter": "python",
   "pygments_lexer": "ipython3",
   "version": "3.12.0"
  }
 },
 "nbformat": 4,
 "nbformat_minor": 2
}

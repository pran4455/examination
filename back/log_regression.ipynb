{
 "cells": [
  {
   "cell_type": "code",
   "execution_count": 5,
   "metadata": {},
   "outputs": [
    {
     "name": "stdout",
     "output_type": "stream",
     "text": [
      "   id  age     sex    dataset               cp  trestbps   chol    fbs  \\\n",
      "0   1   63    Male  Cleveland   typical angina     145.0  233.0   True   \n",
      "1   2   67    Male  Cleveland     asymptomatic     160.0  286.0  False   \n",
      "2   3   67    Male  Cleveland     asymptomatic     120.0  229.0  False   \n",
      "3   4   37    Male  Cleveland      non-anginal     130.0  250.0  False   \n",
      "4   5   41  Female  Cleveland  atypical angina     130.0  204.0  False   \n",
      "\n",
      "          restecg  thalch  exang  oldpeak        slope   ca  \\\n",
      "0  lv hypertrophy   150.0  False      2.3  downsloping  0.0   \n",
      "1  lv hypertrophy   108.0   True      1.5         flat  3.0   \n",
      "2  lv hypertrophy   129.0   True      2.6         flat  2.0   \n",
      "3          normal   187.0  False      3.5  downsloping  0.0   \n",
      "4  lv hypertrophy   172.0  False      1.4    upsloping  0.0   \n",
      "\n",
      "                thal  num  \n",
      "0       fixed defect    0  \n",
      "1             normal    2  \n",
      "2  reversable defect    1  \n",
      "3             normal    0  \n",
      "4             normal    0  \n",
      "<class 'pandas.core.frame.DataFrame'>\n",
      "RangeIndex: 920 entries, 0 to 919\n",
      "Data columns (total 16 columns):\n",
      " #   Column    Non-Null Count  Dtype  \n",
      "---  ------    --------------  -----  \n",
      " 0   id        920 non-null    int64  \n",
      " 1   age       920 non-null    int64  \n",
      " 2   sex       920 non-null    object \n",
      " 3   dataset   920 non-null    object \n",
      " 4   cp        920 non-null    object \n",
      " 5   trestbps  861 non-null    float64\n",
      " 6   chol      890 non-null    float64\n",
      " 7   fbs       830 non-null    object \n",
      " 8   restecg   918 non-null    object \n",
      " 9   thalch    865 non-null    float64\n",
      " 10  exang     865 non-null    object \n",
      " 11  oldpeak   858 non-null    float64\n",
      " 12  slope     611 non-null    object \n",
      " 13  ca        309 non-null    float64\n",
      " 14  thal      434 non-null    object \n",
      " 15  num       920 non-null    int64  \n",
      "dtypes: float64(5), int64(3), object(8)\n",
      "memory usage: 115.1+ KB\n",
      "None\n",
      "id            0\n",
      "age           0\n",
      "sex           0\n",
      "dataset       0\n",
      "cp            0\n",
      "trestbps     59\n",
      "chol         30\n",
      "fbs          90\n",
      "restecg       2\n",
      "thalch       55\n",
      "exang        55\n",
      "oldpeak      62\n",
      "slope       309\n",
      "ca          611\n",
      "thal        486\n",
      "num           0\n",
      "dtype: int64\n",
      "Processed Data:\n",
      "X1 (Age): [0.71428571 0.79591837 0.79591837 0.18367347 0.26530612]\n",
      "X2 (Cholesterol): [0.38640133 0.47429519 0.37976783 0.4145937  0.33830846]\n",
      "y (Target): [0 1 1 0 0]\n"
     ]
    }
   ],
   "source": [
    "import pandas as pd\n",
    "import numpy as np\n",
    "import math\n",
    "import seaborn as sns\n",
    "import matplotlib.pyplot as plt\n",
    "\n",
    "# Load dataset\n",
    "df = pd.read_csv(\"/Users/s_lokesh/Downloads/heart_disease_uci.csv\")\n",
    "\n",
    "# Display first few rows\n",
    "print(df.head())\n",
    "\n",
    "# Check data types and missing values\n",
    "print(df.info())\n",
    "print(df.isnull().sum())\n",
    "\n",
    "# Drop non-numeric columns\n",
    "non_numeric_cols = df.select_dtypes(include=['object']).columns\n",
    "df = df.drop(columns=non_numeric_cols)  # Remove text-based columns\n",
    "\n",
    "# Handle missing values (only for numeric columns)\n",
    "df.fillna(df.mean(numeric_only=True), inplace=True)\n",
    "\n",
    "# Select 'age' and 'chol' as features, 'num' as output (converted to binary)\n",
    "X1 = df['age'].values\n",
    "X2 = df['chol'].values\n",
    "y = (df['num'] > 0).astype(int).values  # Convert 'num' > 0 to 1 (heart disease)\n",
    "\n",
    "# Normalize features using Min-Max Scaling\n",
    "X1_min, X1_max = min(X1), max(X1)\n",
    "X2_min, X2_max = min(X2), max(X2)\n",
    "\n",
    "X1 = (X1 - X1_min) / (X1_max - X1_min)\n",
    "X2 = (X2 - X2_min) / (X2_max - X2_min)\n",
    "\n",
    "print(f\"Processed Data:\\nX1 (Age): {X1[:5]}\\nX2 (Cholesterol): {X2[:5]}\\ny (Target): {y[:5]}\")\n"
   ]
  },
  {
   "cell_type": "code",
   "execution_count": 20,
   "metadata": {},
   "outputs": [],
   "source": [
    "# Manually split into 80% training and 20% testing\n",
    "split_ratio = 0.8\n",
    "split_index = int(len(X1) * split_ratio)\n",
    "\n",
    "X1_train, X1_test = X1[:split_index], X1[split_index:]\n",
    "X2_train, X2_test = X2[:split_index], X2[split_index:]\n",
    "y_train, y_test = y[:split_index], y[split_index:]\n"
   ]
  },
  {
   "cell_type": "code",
   "execution_count": 21,
   "metadata": {},
   "outputs": [
    {
     "name": "stdout",
     "output_type": "stream",
     "text": [
      "Epoch 0: Loss = 0.6931\n",
      "Epoch 100: Loss = 0.6920\n",
      "Epoch 200: Loss = 0.6909\n",
      "Epoch 300: Loss = 0.6899\n",
      "Epoch 400: Loss = 0.6889\n",
      "Epoch 500: Loss = 0.6878\n",
      "Epoch 600: Loss = 0.6869\n",
      "Epoch 700: Loss = 0.6859\n",
      "Epoch 800: Loss = 0.6849\n",
      "Epoch 900: Loss = 0.6840\n",
      "Final Parameters: w1 = 0.2139, w2 = -0.2338, b = -0.0078\n"
     ]
    }
   ],
   "source": [
    "# Sigmoid Function\n",
    "def sigmoid(z):\n",
    "    return 1 / (1 + math.exp(-z))\n",
    "\n",
    "# Logistic Regression Training\n",
    "def logistic_regression(X1, X2, y, learning_rate=0.01, epochs=1000):\n",
    "    w1, w2, b = 0, 0, 0  # Initialize weights and bias\n",
    "    N = len(X1)  # Number of samples\n",
    "\n",
    "    for epoch in range(epochs):\n",
    "        dw1, dw2, db = 0, 0, 0\n",
    "\n",
    "        for i in range(N):\n",
    "            z = w1 * X1[i] + w2 * X2[i] + b\n",
    "            y_pred = sigmoid(z)\n",
    "\n",
    "            error = y_pred - y[i]\n",
    "\n",
    "            # Compute gradients\n",
    "            dw1 += (1/N) * error * X1[i]\n",
    "            dw2 += (1/N) * error * X2[i]\n",
    "            db += (1/N) * error\n",
    "\n",
    "        # Update weights\n",
    "        w1 -= learning_rate * dw1\n",
    "        w2 -= learning_rate * dw2\n",
    "        b -= learning_rate * db\n",
    "\n",
    "        if epoch % 100 == 0:\n",
    "            loss = -sum(y[i] * math.log(sigmoid(w1 * X1[i] + w2 * X2[i] + b)) +\n",
    "                        (1 - y[i]) * math.log(1 - sigmoid(w1 * X1[i] + w2 * X2[i] + b))\n",
    "                        for i in range(N)) / N\n",
    "            print(f\"Epoch {epoch}: Loss = {loss:.4f}\")\n",
    "\n",
    "    return w1, w2, b\n",
    "\n",
    "# Train the Model\n",
    "w1_final, w2_final, b_final = logistic_regression(X1_train, X2_train, y_train, learning_rate=0.01, epochs=1000)\n",
    "print(f\"Final Parameters: w1 = {w1_final:.4f}, w2 = {w2_final:.4f}, b = {b_final:.4f}\")\n"
   ]
  },
  {
   "cell_type": "code",
   "execution_count": 22,
   "metadata": {},
   "outputs": [
    {
     "name": "stdout",
     "output_type": "stream",
     "text": [
      "Predicted Heart Disease (1=Yes, 0=No): 1\n"
     ]
    }
   ],
   "source": [
    "# Prediction Function\n",
    "def predict(age, chol):\n",
    "    age_scaled = (age - X1_min) / (X1_max - X1_min)\n",
    "    chol_scaled = (chol - X2_min) / (X2_max - X2_min)\n",
    "    prob = sigmoid(w1_final * age_scaled + w2_final * chol_scaled + b_final)\n",
    "    return 1 if prob > 0.5 else 0\n",
    "\n",
    "# Example Prediction\n",
    "new_age, new_chol = 55, 240\n",
    "print(f\"Predicted Heart Disease (1=Yes, 0=No): {predict(new_age, new_chol)}\")\n"
   ]
  },
  {
   "cell_type": "code",
   "execution_count": 23,
   "metadata": {},
   "outputs": [
    {
     "name": "stdout",
     "output_type": "stream",
     "text": [
      "Accuracy on Test Data: 0.7554\n"
     ]
    }
   ],
   "source": [
    "# Evaluate on test set\n",
    "y_pred_test = [predict(X1_test[i] * (X1_max - X1_min) + X1_min, \n",
    "                       X2_test[i] * (X2_max - X2_min) + X2_min) for i in range(len(X1_test))]\n",
    "\n",
    "# Calculate Accuracy\n",
    "accuracy = sum(y_pred_test[i] == y_test[i] for i in range(len(y_test))) / len(y_test)\n",
    "print(f\"Accuracy on Test Data: {accuracy:.4f}\")\n"
   ]
  }
 ],
 "metadata": {
  "kernelspec": {
   "display_name": "Python 3",
   "language": "python",
   "name": "python3"
  },
  "language_info": {
   "codemirror_mode": {
    "name": "ipython",
    "version": 3
   },
   "file_extension": ".py",
   "mimetype": "text/x-python",
   "name": "python",
   "nbconvert_exporter": "python",
   "pygments_lexer": "ipython3",
   "version": "3.11.4"
  },
  "orig_nbformat": 4
 },
 "nbformat": 4,
 "nbformat_minor": 2
}

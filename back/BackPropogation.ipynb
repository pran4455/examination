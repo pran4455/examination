{
 "cells": [
  {
   "cell_type": "markdown",
   "metadata": {},
   "source": [
    "Author : U Pranaav\n",
    "\n",
    "Reg no : 3122 22 5002 093"
   ]
  },
  {
   "cell_type": "code",
   "execution_count": null,
   "metadata": {},
   "outputs": [
    {
     "name": "stdout",
     "output_type": "stream",
     "text": [
      "   id  age     sex    dataset               cp  trestbps   chol    fbs  \\\n",
      "0   1   63    Male  Cleveland   typical angina     145.0  233.0   True   \n",
      "1   2   67    Male  Cleveland     asymptomatic     160.0  286.0  False   \n",
      "2   3   67    Male  Cleveland     asymptomatic     120.0  229.0  False   \n",
      "3   4   37    Male  Cleveland      non-anginal     130.0  250.0  False   \n",
      "4   5   41  Female  Cleveland  atypical angina     130.0  204.0  False   \n",
      "\n",
      "          restecg  thalch  exang  oldpeak        slope   ca  \\\n",
      "0  lv hypertrophy   150.0  False      2.3  downsloping  0.0   \n",
      "1  lv hypertrophy   108.0   True      1.5         flat  3.0   \n",
      "2  lv hypertrophy   129.0   True      2.6         flat  2.0   \n",
      "3          normal   187.0  False      3.5  downsloping  0.0   \n",
      "4  lv hypertrophy   172.0  False      1.4    upsloping  0.0   \n",
      "\n",
      "                thal  num  \n",
      "0       fixed defect    0  \n",
      "1             normal    2  \n",
      "2  reversable defect    1  \n",
      "3             normal    0  \n",
      "4             normal    0  \n",
      "<class 'pandas.core.frame.DataFrame'>\n",
      "RangeIndex: 920 entries, 0 to 919\n",
      "Data columns (total 16 columns):\n",
      " #   Column    Non-Null Count  Dtype  \n",
      "---  ------    --------------  -----  \n",
      " 0   id        920 non-null    int64  \n",
      " 1   age       920 non-null    int64  \n",
      " 2   sex       920 non-null    object \n",
      " 3   dataset   920 non-null    object \n",
      " 4   cp        920 non-null    object \n",
      " 5   trestbps  861 non-null    float64\n",
      " 6   chol      890 non-null    float64\n",
      " 7   fbs       830 non-null    object \n",
      " 8   restecg   918 non-null    object \n",
      " 9   thalch    865 non-null    float64\n",
      " 10  exang     865 non-null    object \n",
      " 11  oldpeak   858 non-null    float64\n",
      " 12  slope     611 non-null    object \n",
      " 13  ca        309 non-null    float64\n",
      " 14  thal      434 non-null    object \n",
      " 15  num       920 non-null    int64  \n",
      "dtypes: float64(5), int64(3), object(8)\n",
      "memory usage: 115.1+ KB\n",
      "None\n",
      "id            0\n",
      "age           0\n",
      "sex           0\n",
      "dataset       0\n",
      "cp            0\n",
      "trestbps     59\n",
      "chol         30\n",
      "fbs          90\n",
      "restecg       2\n",
      "thalch       55\n",
      "exang        55\n",
      "oldpeak      62\n",
      "slope       309\n",
      "ca          611\n",
      "thal        486\n",
      "num           0\n",
      "dtype: int64\n",
      "Processed Data:\n",
      "X1 (Age): [0.71428571 0.79591837 0.79591837 0.18367347 0.26530612]\n",
      "X2 (Cholesterol): [0.38640133 0.47429519 0.37976783 0.4145937  0.33830846]\n",
      "y (Target): [0 1 1 0 0]\n"
     ]
    }
   ],
   "source": [
    "import pandas as pd\n",
    "import numpy as np\n",
    "import math\n",
    "import seaborn as sns\n",
    "import matplotlib.pyplot as plt\n",
    "import random\n",
    "\n",
    "# Load dataset\n",
    "df = pd.read_csv(\"heart_disease_uci.csv\")\n",
    "\n",
    "print(df.head())\n",
    "print(df.info())\n",
    "print(df.isnull().sum())\n",
    "\n",
    "non_numeric_cols = df.select_dtypes(include=['object']).columns\n",
    "df = df.drop(columns=non_numeric_cols)  # Remove text-based columns\n",
    "\n",
    "df.fillna(df.mean(numeric_only=True), inplace=True)\n",
    "\n",
    "X1 = df['age'].values\n",
    "X2 = df['chol'].values\n",
    "y = (df['num'] > 0).astype(int).values  # Convert 'num' > 0 to 1 (heart disease)\n",
    "\n",
    "X1_min, X1_max = min(X1), max(X1)\n",
    "X2_min, X2_max = min(X2), max(X2)\n",
    "\n",
    "X1 = (X1 - X1_min) / (X1_max - X1_min)\n",
    "X2 = (X2 - X2_min) / (X2_max - X2_min)\n",
    "\n",
    "print(f\"Processed Data:\\nX1 (Age): {X1[:5]}\\nX2 (Cholesterol): {X2[:5]}\\ny (Target): {y[:5]}\")\n"
   ]
  },
  {
   "cell_type": "code",
   "execution_count": null,
   "metadata": {},
   "outputs": [],
   "source": [
    "split_ratio = 0.8\n",
    "split_index = int(len(X1) * split_ratio)\n",
    "\n",
    "X1_train, X1_test = X1[:split_index], X1[split_index:]\n",
    "X2_train, X2_test = X2[:split_index], X2[split_index:]\n",
    "y_train, y_test = y[:split_index], y[split_index:]"
   ]
  },
  {
   "cell_type": "code",
   "execution_count": 28,
   "metadata": {},
   "outputs": [],
   "source": [
    "# Sigmoid Activation Function\n",
    "def sigmoid(x):\n",
    "    return 1 / (1 + math.exp(-x))\n",
    "\n",
    "# Derivative of Sigmoid\n",
    "def sigmoid_derivative(x):\n",
    "    return x * (1 - x)\n",
    "\n",
    "# ReLU Activation Function\n",
    "def relu(x):\n",
    "    return max(0, x)\n",
    "\n",
    "# Derivative of ReLU\n",
    "def relu_derivative(x):\n",
    "    return 1 if x > 0 else 0\n"
   ]
  },
  {
   "cell_type": "code",
   "execution_count": 29,
   "metadata": {},
   "outputs": [],
   "source": [
    "# Random Weight Initialization\n",
    "random.seed(42)\n",
    "w1 = random.uniform(-1, 1)  # Weight for X1 to Hidden Neuron 1\n",
    "w2 = random.uniform(-1, 1)  # Weight for X2 to Hidden Neuron 1\n",
    "w3 = random.uniform(-1, 1)  # Weight for X1 to Hidden Neuron 2\n",
    "w4 = random.uniform(-1, 1)  # Weight for X2 to Hidden Neuron 2\n",
    "\n",
    "b1 = random.uniform(-1, 1)  # Bias for Hidden Neuron 1\n",
    "b2 = random.uniform(-1, 1)  # Bias for Hidden Neuron 2\n",
    "\n",
    "w5 = random.uniform(-1, 1)  # Weight from Hidden Neuron 1 to Output\n",
    "w6 = random.uniform(-1, 1)  # Weight from Hidden Neuron 2 to Output\n",
    "\n",
    "b_out = random.uniform(-1, 1)  # Bias for Output Neuron\n"
   ]
  },
  {
   "cell_type": "code",
   "execution_count": 30,
   "metadata": {},
   "outputs": [],
   "source": [
    "def forward_propagation(x1, x2):\n",
    "    # Hidden Layer\n",
    "    z1 = w1 * x1 + w2 * x2 + b1\n",
    "    a1 = relu(z1)  # Activation for Neuron 1\n",
    "\n",
    "    z2 = w3 * x1 + w4 * x2 + b2\n",
    "    a2 = relu(z2)  # Activation for Neuron 2\n",
    "\n",
    "    # Output Layer\n",
    "    z_out = w5 * a1 + w6 * a2 + b_out\n",
    "    a_out = sigmoid(z_out)  # Output Activation (Sigmoid)\n",
    "\n",
    "    return a1, a2, a_out\n"
   ]
  },
  {
   "cell_type": "code",
   "execution_count": null,
   "metadata": {},
   "outputs": [],
   "source": [
    "def backpropagation(x1, x2, y_true, a1, a2, a_out, learning_rate=0.01):\n",
    "    global w1, w2, w3, w4, w5, w6, b1, b2, b_out\n",
    "\n",
    "    # Compute Output Error\n",
    "    error = a_out - y_true\n",
    "\n",
    "    # Compute Gradients for Output Layer\n",
    "    dz_out = error * sigmoid_derivative(a_out)\n",
    "    dw5 = dz_out * a1\n",
    "    dw6 = dz_out * a2\n",
    "    db_out = dz_out\n",
    "\n",
    "    # Compute Gradients for Hidden Layer\n",
    "    dz1 = dz_out * w5 * relu_derivative(a1)\n",
    "    dz2 = dz_out * w6 * relu_derivative(a2)\n",
    "\n",
    "    dw1 = dz1 * x1\n",
    "    dw2 = dz1 * x2\n",
    "    db1 = dz1\n",
    "\n",
    "    dw3 = dz2 * x1\n",
    "    dw4 = dz2 * x2\n",
    "    db2 = dz2\n",
    "\n",
    "    # Update Weights and Biases\n",
    "    w1 -= learning_rate * dw1\n",
    "    w2 -= learning_rate * dw2\n",
    "    w3 -= learning_rate * dw3\n",
    "    w4 -= learning_rate * dw4\n",
    "    w5 -= learning_rate * dw5\n",
    "    w6 -= learning_rate * dw6\n",
    "\n",
    "    b1 -= learning_rate * db1\n",
    "    b2 -= learning_rate * db2\n",
    "    b_out -= learning_rate * db_out\n"
   ]
  },
  {
   "cell_type": "code",
   "execution_count": 32,
   "metadata": {},
   "outputs": [
    {
     "name": "stdout",
     "output_type": "stream",
     "text": [
      "Epoch 0, Loss: 0.19134714772242925\n",
      "Epoch 100, Loss: 0.1623039332120049\n",
      "Epoch 200, Loss: 0.15907201637921625\n",
      "Epoch 300, Loss: 0.15806397286299056\n",
      "Epoch 400, Loss: 0.15772378968961728\n",
      "Epoch 500, Loss: 0.1576253912957528\n",
      "Epoch 600, Loss: 0.1574781999033908\n",
      "Epoch 700, Loss: 0.15746690356855145\n",
      "Epoch 800, Loss: 0.1575314430445262\n",
      "Epoch 900, Loss: 0.15749292250858662\n"
     ]
    }
   ],
   "source": [
    "def train(epochs=1000, learning_rate=0.01):\n",
    "    for epoch in range(epochs):\n",
    "        total_loss = 0\n",
    "        for i in range(len(X1_train)):\n",
    "            a1, a2, a_out = forward_propagation(X1_train[i], X2_train[i])\n",
    "            backpropagation(X1_train[i], X2_train[i], y_train[i], a1, a2, a_out, learning_rate)\n",
    "            total_loss += (a_out - y_train[i])**2  # MSE Loss\n",
    "\n",
    "        if epoch % 100 == 0:\n",
    "            print(f\"Epoch {epoch}, Loss: {total_loss / len(X1)}\")\n",
    "\n",
    "train(epochs=1000, learning_rate=0.01)\n"
   ]
  },
  {
   "cell_type": "code",
   "execution_count": 33,
   "metadata": {},
   "outputs": [
    {
     "name": "stdout",
     "output_type": "stream",
     "text": [
      "Predicted Heart Disease: 1\n"
     ]
    }
   ],
   "source": [
    "def predict(age, chol):\n",
    "    # Normalize Input\n",
    "    age = (age - X1_min) / (X1_max - X1_min)\n",
    "    chol = (chol - X2_min) / (X2_max - X2_min)\n",
    "\n",
    "    _, _, a_out = forward_propagation(age, chol)\n",
    "    return 1 if a_out > 0.5 else 0\n",
    "\n",
    "# Example Prediction\n",
    "new_age = 55\n",
    "new_chol = 240\n",
    "predicted_label = predict(new_age, new_chol)\n",
    "print(f\"Predicted Heart Disease: {predicted_label}\")\n"
   ]
  },
  {
   "cell_type": "code",
   "execution_count": 34,
   "metadata": {},
   "outputs": [
    {
     "name": "stdout",
     "output_type": "stream",
     "text": [
      "Accuracy on Test Data: 0.7663\n"
     ]
    }
   ],
   "source": [
    "# Evaluate on test set\n",
    "y_pred_test = [predict(X1_test[i] * (X1_max - X1_min) + X1_min, \n",
    "                       X2_test[i] * (X2_max - X2_min) + X2_min) for i in range(len(X1_test))]\n",
    "\n",
    "# Calculate Accuracy\n",
    "accuracy = sum(y_pred_test[i] == y_test[i] for i in range(len(y_test))) / len(y_test)\n",
    "print(f\"Accuracy on Test Data: {accuracy:.4f}\")\n"
   ]
  }
 ],
 "metadata": {
  "kernelspec": {
   "display_name": "Python 3",
   "language": "python",
   "name": "python3"
  },
  "language_info": {
   "codemirror_mode": {
    "name": "ipython",
    "version": 3
   },
   "file_extension": ".py",
   "mimetype": "text/x-python",
   "name": "python",
   "nbconvert_exporter": "python",
   "pygments_lexer": "ipython3",
   "version": "3.11.4"
  },
  "orig_nbformat": 4
 },
 "nbformat": 4,
 "nbformat_minor": 2
}

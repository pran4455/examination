{
 "cells": [
  {
   "cell_type": "code",
   "execution_count": 2,
   "metadata": {},
   "outputs": [
    {
     "name": "stdout",
     "output_type": "stream",
     "text": [
      "Iteration 1, loss = 0.38502588\n",
      "Iteration 2, loss = 0.14950580\n",
      "Iteration 3, loss = 0.10273425\n",
      "Iteration 4, loss = 0.07876612\n",
      "Iteration 5, loss = 0.06287742\n",
      "Iteration 6, loss = 0.05150452\n",
      "Iteration 7, loss = 0.04168628\n",
      "Iteration 8, loss = 0.03421156\n",
      "Iteration 9, loss = 0.02852425\n",
      "Iteration 10, loss = 0.02430944\n",
      "Iteration 11, loss = 0.02026940\n",
      "Iteration 12, loss = 0.01670841\n",
      "Iteration 13, loss = 0.01354651\n",
      "Iteration 14, loss = 0.01485205\n",
      "Iteration 15, loss = 0.01153144\n",
      "Iteration 16, loss = 0.01095233\n",
      "Iteration 17, loss = 0.00810442\n",
      "Iteration 18, loss = 0.00709180\n",
      "Iteration 19, loss = 0.00439719\n",
      "Iteration 20, loss = 0.00553457\n",
      "\n",
      "MLP Classifier Results:\n",
      "Accuracy: 0.9769\n",
      "              precision    recall  f1-score   support\n",
      "\n",
      "           0       0.98      0.99      0.98       980\n",
      "           1       0.99      0.99      0.99      1135\n",
      "           2       0.98      0.96      0.97      1032\n",
      "           3       0.96      0.99      0.97      1010\n",
      "           4       0.97      0.98      0.97       982\n",
      "           5       0.98      0.97      0.98       892\n",
      "           6       0.98      0.97      0.98       958\n",
      "           7       0.98      0.97      0.98      1028\n",
      "           8       0.97      0.97      0.97       974\n",
      "           9       0.98      0.97      0.97      1009\n",
      "\n",
      "    accuracy                           0.98     10000\n",
      "   macro avg       0.98      0.98      0.98     10000\n",
      "weighted avg       0.98      0.98      0.98     10000\n",
      "\n",
      "\n",
      "Model saved at: models/mlp_mnist.pkl\n"
     ]
    },
    {
     "name": "stderr",
     "output_type": "stream",
     "text": [
      "c:\\Users\\paran\\AppData\\Local\\Programs\\Python\\Python312\\Lib\\site-packages\\sklearn\\neural_network\\_multilayer_perceptron.py:690: ConvergenceWarning: Stochastic Optimizer: Maximum iterations (20) reached and the optimization hasn't converged yet.\n",
      "  warnings.warn(\n"
     ]
    }
   ],
   "source": [
    "import numpy as np\n",
    "import joblib\n",
    "from sklearn.neural_network import MLPClassifier\n",
    "from sklearn.metrics import accuracy_score, classification_report\n",
    "import idx2numpy\n",
    "import os\n",
    "\n",
    "# Define dataset paths\n",
    "dataset_dir = r\"MNIST\"\n",
    "\n",
    "# Use idx2numpy to load MNIST data\n",
    "train_images = idx2numpy.convert_from_file(os.path.join(dataset_dir, \"train-images.idx3-ubyte\")) / 255.0  # Normalize\n",
    "train_labels = idx2numpy.convert_from_file(os.path.join(dataset_dir, \"train-labels.idx1-ubyte\"))\n",
    "test_images = idx2numpy.convert_from_file(os.path.join(dataset_dir, \"t10k-images.idx3-ubyte\")) / 255.0  # Normalize\n",
    "test_labels = idx2numpy.convert_from_file(os.path.join(dataset_dir, \"t10k-labels.idx1-ubyte\"))\n",
    "\n",
    "# Define and train MLP model\n",
    "mlp = MLPClassifier(hidden_layer_sizes=(128, 64), activation='relu', solver='adam', max_iter=20, random_state=42, verbose=True)\n",
    "mlp.fit(train_images.reshape(train_images.shape[0], -1), train_labels)  # Flatten the images for the model\n",
    "\n",
    "# Save model\n",
    "os.makedirs(\"models\", exist_ok=True)\n",
    "model_path = \"models/mlp_mnist.pkl\"\n",
    "joblib.dump(mlp, model_path)\n",
    "\n",
    "# Evaluate model\n",
    "predictions = mlp.predict(test_images.reshape(test_images.shape[0], -1))  # Flatten test images\n",
    "print(\"\\nMLP Classifier Results:\")\n",
    "print(\"Accuracy:\", accuracy_score(test_labels, predictions))\n",
    "print(classification_report(test_labels, predictions))\n",
    "print(f\"\\nModel saved at: {model_path}\")\n"
   ]
  }
 ],
 "metadata": {
  "kernelspec": {
   "display_name": "Python 3",
   "language": "python",
   "name": "python3"
  },
  "language_info": {
   "codemirror_mode": {
    "name": "ipython",
    "version": 3
   },
   "file_extension": ".py",
   "mimetype": "text/x-python",
   "name": "python",
   "nbconvert_exporter": "python",
   "pygments_lexer": "ipython3",
   "version": "3.12.0"
  }
 },
 "nbformat": 4,
 "nbformat_minor": 2
}

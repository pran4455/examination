{
 "cells": [
  {
   "cell_type": "code",
   "execution_count": 3,
   "metadata": {},
   "outputs": [
    {
     "name": "stdout",
     "output_type": "stream",
     "text": [
      "Iteration 1, loss = 1.90927613\n",
      "Iteration 2, loss = 1.69219902\n",
      "Iteration 3, loss = 1.59057322\n",
      "Iteration 4, loss = 1.54898516\n",
      "Iteration 5, loss = 1.50147536\n",
      "Iteration 6, loss = 1.45115341\n",
      "Iteration 7, loss = 1.42547479\n",
      "Iteration 8, loss = 1.40513219\n",
      "Iteration 9, loss = 1.37502262\n",
      "Iteration 10, loss = 1.34612889\n",
      "Iteration 11, loss = 1.31908796\n",
      "Iteration 12, loss = 1.29916159\n",
      "Iteration 13, loss = 1.27777304\n",
      "Iteration 14, loss = 1.25303441\n",
      "Iteration 15, loss = 1.22803454\n",
      "Iteration 16, loss = 1.20754199\n",
      "Iteration 17, loss = 1.18414745\n",
      "Iteration 18, loss = 1.16846034\n",
      "Iteration 19, loss = 1.14469144\n",
      "Iteration 20, loss = 1.12150695\n"
     ]
    },
    {
     "name": "stderr",
     "output_type": "stream",
     "text": [
      "c:\\Users\\paran\\AppData\\Local\\Programs\\Python\\Python312\\Lib\\site-packages\\sklearn\\neural_network\\_multilayer_perceptron.py:690: ConvergenceWarning: Stochastic Optimizer: Maximum iterations (20) reached and the optimization hasn't converged yet.\n",
      "  warnings.warn(\n"
     ]
    },
    {
     "name": "stdout",
     "output_type": "stream",
     "text": [
      "\n",
      "Accuracy: 0.5125\n",
      "              precision    recall  f1-score   support\n",
      "\n",
      "           0       0.67      0.54      0.60      1000\n",
      "           1       0.56      0.67      0.61      1000\n",
      "           2       0.41      0.40      0.40      1000\n",
      "           3       0.33      0.41      0.37      1000\n",
      "           4       0.49      0.39      0.43      1000\n",
      "           5       0.40      0.43      0.42      1000\n",
      "           6       0.62      0.46      0.52      1000\n",
      "           7       0.56      0.60      0.58      1000\n",
      "           8       0.71      0.56      0.63      1000\n",
      "           9       0.51      0.66      0.58      1000\n",
      "\n",
      "    accuracy                           0.51     10000\n",
      "   macro avg       0.53      0.51      0.51     10000\n",
      "weighted avg       0.53      0.51      0.51     10000\n",
      "\n",
      "\n",
      "Model saved at: mlp_cifar10.pkl\n"
     ]
    }
   ],
   "source": [
    "import numpy as np\n",
    "import pickle\n",
    "import os\n",
    "import joblib\n",
    "from sklearn.neural_network import MLPClassifier\n",
    "from sklearn.metrics import accuracy_score, classification_report\n",
    "\n",
    "# Function to load CIFAR-10 batch files\n",
    "def load_cifar10_batch(filepath):\n",
    "    with open(filepath, 'rb') as f:\n",
    "        batch = pickle.load(f, encoding='bytes')\n",
    "    return np.array(batch[b'data']) / 255.0, np.array(batch[b'labels'])  # Normalize while loading\n",
    "\n",
    "# Function to load all training data\n",
    "def load_cifar10_data(dataset_path):\n",
    "    X_train, y_train = [], []\n",
    "    for i in range(1, 6):  # Load data_batch_1 to data_batch_5\n",
    "        images, labels = load_cifar10_batch(os.path.join(dataset_path, f\"data_batch_{i}\"))\n",
    "        X_train.append(images)\n",
    "        y_train.extend(labels)\n",
    "    return np.vstack(X_train), np.array(y_train)  # Stack lists into arrays\n",
    "\n",
    "# Define dataset path\n",
    "dataset_path = r\"cifar-10-python\\cifar-10-batches-py\"\n",
    "\n",
    "# Load training and test data\n",
    "X_train, y_train = load_cifar10_data(dataset_path)\n",
    "X_test, y_test = load_cifar10_batch(os.path.join(dataset_path, \"test_batch\"))\n",
    "\n",
    "# Define and train MLP model\n",
    "mlp = MLPClassifier(hidden_layer_sizes=(512, 256, 128), activation='relu', solver='adam', max_iter=20, random_state=42, verbose=True)\n",
    "mlp.fit(X_train, y_train)\n",
    "\n",
    "# Save trained model\n",
    "model_path = \"mlp_cifar10.pkl\"\n",
    "joblib.dump(mlp, model_path)\n",
    "    \n",
    "# Evaluate model\n",
    "y_pred = mlp.predict(X_test)\n",
    "print(f\"\\nAccuracy: {accuracy_score(y_test, y_pred):.4f}\")\n",
    "print(classification_report(y_test, y_pred))\n",
    "print(f\"\\nModel saved at: {model_path}\")"
   ]
  }
 ],
 "metadata": {
  "kernelspec": {
   "display_name": "Python 3",
   "language": "python",
   "name": "python3"
  },
  "language_info": {
   "codemirror_mode": {
    "name": "ipython",
    "version": 3
   },
   "file_extension": ".py",
   "mimetype": "text/x-python",
   "name": "python",
   "nbconvert_exporter": "python",
   "pygments_lexer": "ipython3",
   "version": "3.12.0"
  }
 },
 "nbformat": 4,
 "nbformat_minor": 2
}

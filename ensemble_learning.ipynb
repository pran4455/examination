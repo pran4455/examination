{
 "cells": [
  {
   "cell_type": "code",
   "execution_count": null,
   "id": "6e22b37b",
   "metadata": {},
   "outputs": [
    {
     "name": "stdout",
     "output_type": "stream",
     "text": [
      "------------------------------------------------- Bagging (Random Forest) -------------------------------------------------\n",
      "Bagging Accuracy (Random Forest): 0.8100558659217877\n",
      "------------------------------------------------- Boosting (XGBoost) ------------------------------------------------------\n",
      "Boosting Accuracy (XGBoost): 0.8268156424581006\n",
      "------------------------------------------------- Stacking ----------------------------------------------------------------\n",
      "Stacking Accuracy: 0.7988826815642458\n",
      "\n",
      "Classification Report for Stacking:\n",
      "              precision    recall  f1-score   support\n",
      "\n",
      "           0       0.81      0.86      0.83       105\n",
      "           1       0.78      0.72      0.75        74\n",
      "\n",
      "    accuracy                           0.80       179\n",
      "   macro avg       0.80      0.79      0.79       179\n",
      "weighted avg       0.80      0.80      0.80       179\n",
      "\n"
     ]
    }
   ],
   "source": [
    "import pandas as pd\n",
    "from sklearn.ensemble import RandomForestClassifier, StackingClassifier\n",
    "from sklearn.linear_model import LogisticRegression\n",
    "from sklearn.svm import SVC\n",
    "from sklearn.neighbors import KNeighborsClassifier\n",
    "from sklearn.tree import DecisionTreeClassifier\n",
    "from xgboost import XGBClassifier\n",
    "from sklearn.model_selection import train_test_split\n",
    "from sklearn.metrics import accuracy_score, classification_report\n",
    "\n",
    "# 1. Load Dataset\n",
    "df = pd.read_csv('Titanic-Dataset.csv')\n",
    "\n",
    "# 2. Feature Selection and Target\n",
    "features = ['Pclass', 'Sex', 'Age', 'SibSp', 'Parch', 'Fare', 'Embarked']\n",
    "target = 'Survived'\n",
    "\n",
    "X = df[features].copy()\n",
    "y = df[target]\n",
    "\n",
    "# 3. Handle Missing Values\n",
    "X['Age'] = X['Age'].fillna(X['Age'].median())\n",
    "X['Embarked'] = X['Embarked'].fillna(X['Embarked'].mode()[0])\n",
    "\n",
    "# 4. Encode Categorical Features\n",
    "X = pd.get_dummies(X, columns=['Sex', 'Embarked', 'Pclass'], drop_first=True)\n",
    "\n",
    "# 5. Split the Data\n",
    "X_train, X_test, y_train, y_test = train_test_split(X, y, test_size=0.2, random_state=42)\n",
    "\n",
    "print(\"------------------------------------------------- Bagging (Random Forest) -------------------------------------------------\")\n",
    "# Bagging with Random Forest\n",
    "bag_model = RandomForestClassifier(n_estimators=100, random_state=42)\n",
    "bag_model.fit(X_train, y_train)\n",
    "bag_pred = bag_model.predict(X_test)\n",
    "print(\"Bagging Accuracy (Random Forest):\", accuracy_score(y_test, bag_pred))\n",
    "\n",
    "print(\"------------------------------------------------- Boosting (XGBoost) ------------------------------------------------------\")\n",
    "# Boosting with XGBoost\n",
    "boost_model = XGBClassifier(n_estimators=100, learning_rate=0.1, eval_metric='logloss', random_state=42)\n",
    "boost_model.fit(X_train, y_train)\n",
    "boost_pred = boost_model.predict(X_test)\n",
    "print(\"Boosting Accuracy (XGBoost):\", accuracy_score(y_test, boost_pred))\n",
    "\n",
    "print(\"------------------------------------------------- Stacking ----------------------------------------------------------------\")\n",
    "# Stacking\n",
    "base_models = [\n",
    "    ('knn', KNeighborsClassifier(n_neighbors=3)),\n",
    "    ('dt', DecisionTreeClassifier(max_depth=3))\n",
    "]\n",
    "meta_model = LogisticRegression(max_iter=1000)\n",
    "\n",
    "stack_model = StackingClassifier(estimators=base_models, final_estimator=meta_model, passthrough=True)\n",
    "stack_model.fit(X_train, y_train)\n",
    "stack_pred = stack_model.predict(X_test)\n",
    "print(\"Stacking Accuracy:\", accuracy_score(y_test, stack_pred))\n",
    "\n",
    "print(\"\\nClassification Report for Stacking:\")\n",
    "print(classification_report(y_test, stack_pred))\n"
   ]
  }
 ],
 "metadata": {
  "kernelspec": {
   "display_name": "Python 3",
   "language": "python",
   "name": "python3"
  },
  "language_info": {
   "codemirror_mode": {
    "name": "ipython",
    "version": 3
   },
   "file_extension": ".py",
   "mimetype": "text/x-python",
   "name": "python",
   "nbconvert_exporter": "python",
   "pygments_lexer": "ipython3",
   "version": "3.12.0"
  }
 },
 "nbformat": 4,
 "nbformat_minor": 5
}

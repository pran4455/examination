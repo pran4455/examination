{
 "cells": [
  {
   "cell_type": "code",
   "execution_count": 1,
   "id": "81013660",
   "metadata": {},
   "outputs": [
    {
     "name": "stdout",
     "output_type": "stream",
     "text": [
      "\n",
      "Logistic Regression Classification Results:\n",
      "Accuracy: 0.8301435406698564\n",
      "Confusion Matrix:\n",
      " [[201  78]\n",
      " [ 64 493]]\n",
      "Classification Report:\n",
      "               precision    recall  f1-score   support\n",
      "\n",
      "           0       0.76      0.72      0.74       279\n",
      "           1       0.86      0.89      0.87       557\n",
      "\n",
      "    accuracy                           0.83       836\n",
      "   macro avg       0.81      0.80      0.81       836\n",
      "weighted avg       0.83      0.83      0.83       836\n",
      "\n"
     ]
    }
   ],
   "source": [
    "import numpy as np\n",
    "import pandas as pd\n",
    "from sklearn.model_selection import train_test_split\n",
    "from sklearn.linear_model import LogisticRegression\n",
    "from sklearn.preprocessing import StandardScaler\n",
    "from sklearn.metrics import accuracy_score, confusion_matrix, classification_report\n",
    "\n",
    "# Load dataset\n",
    "column_names = [\"Sex\", \"Length\", \"Diameter\", \"Height\", \"WholeWeight\", \"ShuckedWeight\", \"VisceraWeight\", \"ShellWeight\", \"Rings\"]\n",
    "data = pd.read_csv(r\"abalone\\abalone.data\", names=column_names, header=None)\n",
    "\n",
    "# Encode 'Sex' column\n",
    "data['Sex'] = data['Sex'].map({'M': 0, 'F': 1, 'I': 2})\n",
    "\n",
    "# Features and target (binary classification)\n",
    "X = data.drop(columns=['Rings'])\n",
    "y = data['Rings'] + 1.5  # Age = Rings + 1.5\n",
    "y_class = (y >= 10).astype(int)  # Class 1 if age ≥ 10 (old), else 0 (young)\n",
    "\n",
    "# Feature scaling\n",
    "scaler = StandardScaler()\n",
    "X_scaled = scaler.fit_transform(X)\n",
    "\n",
    "# Train-test split\n",
    "X_train, X_test, y_train, y_test = train_test_split(X_scaled, y_class, test_size=0.2, random_state=42)\n",
    "\n",
    "# Logistic Regression model\n",
    "clf = LogisticRegression(max_iter=1000)\n",
    "clf.fit(X_train, y_train)\n",
    "\n",
    "# Predictions\n",
    "y_pred = clf.predict(X_test)\n",
    "\n",
    "# Evaluation\n",
    "print(\"\\nLogistic Regression Classification Results:\")\n",
    "print(\"Accuracy:\", accuracy_score(y_test, y_pred))\n",
    "print(\"Confusion Matrix:\\n\", confusion_matrix(y_test, y_pred))\n",
    "print(\"Classification Report:\\n\", classification_report(y_test, y_pred))\n"
   ]
  }
 ],
 "metadata": {
  "kernelspec": {
   "display_name": "Python 3",
   "language": "python",
   "name": "python3"
  },
  "language_info": {
   "codemirror_mode": {
    "name": "ipython",
    "version": 3
   },
   "file_extension": ".py",
   "mimetype": "text/x-python",
   "name": "python",
   "nbconvert_exporter": "python",
   "pygments_lexer": "ipython3",
   "version": "3.12.0"
  }
 },
 "nbformat": 4,
 "nbformat_minor": 5
}
